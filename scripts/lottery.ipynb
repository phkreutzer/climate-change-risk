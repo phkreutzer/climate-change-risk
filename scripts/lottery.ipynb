{
 "cells": [
  {
   "cell_type": "code",
   "execution_count": 4,
   "id": "advance-biotechnology",
   "metadata": {},
   "outputs": [],
   "source": [
    "import pandas as pd\n",
    "import seaborn as sns\n",
    "import numpy as np\n",
    "from numpy.random import choice"
   ]
  },
  {
   "cell_type": "code",
   "execution_count": 6,
   "id": "dressed-projector",
   "metadata": {},
   "outputs": [],
   "source": [
    "data = pd.read_csv('../data/lottery_data.csv')"
   ]
  },
  {
   "cell_type": "code",
   "execution_count": 7,
   "id": "0d8a991c",
   "metadata": {
    "scrolled": true
   },
   "outputs": [
    {
     "data": {
      "text/plain": [
       "<AxesSubplot:title={'center':'Count of Donation Decisions'}, xlabel='Donations', ylabel='Count'>"
      ]
     },
     "execution_count": 7,
     "metadata": {},
     "output_type": "execute_result"
    },
    {
     "data": {
      "image/png": "[encoded data removed]",
      "text/plain": [
       "<Figure size 432x288 with 1 Axes>"
      ]
     },
     "metadata": {},
     "output_type": "display_data"
    }
   ],
   "source": [
    "sns.set_theme(style=\"whitegrid\")\n",
    "donations = sns.countplot(data = data, x = 'donations', alpha = 0.8)\n",
    "donations.set(xlabel =\"Donations\", ylabel = \"Count\", title ='Count of Donation Decisions')\n",
    "\n",
    "for p in donations.patches:\n",
    "             donations.annotate(\"%.0f\" % p.get_height(), (p.get_x() + p.get_width() / 2., p.get_height()),\n",
    "                 ha='center', va='center', fontsize=10, color='black', xytext=(0, 5),\n",
    "                 textcoords='offset points')\n",
    "\n",
    "donations"
   ]
  },
  {
   "cell_type": "code",
   "execution_count": 69,
   "id": "direct-karma",
   "metadata": {},
   "outputs": [
    {
     "name": "stdout",
     "output_type": "stream",
     "text": [
      "Out of 2700, 1517 tickets were donated to atmosfair and 1183 were kept.\n"
     ]
    }
   ],
   "source": [
    "tickets_donated = sum(data['donations'])\n",
    "tickets_kept = sum(data['tickets'])\n",
    "tickets_total = len(data)*10\n",
    "print(f\"Out of {tickets_total}, {donation_sum} tickets were donated to atmosfair and {tickets_kept} were kept.\")"
   ]
  },
  {
   "cell_type": "code",
   "execution_count": 219,
   "id": "amino-robertson",
   "metadata": {},
   "outputs": [],
   "source": [
    "data = data.append({'codes' : 'atmosfair',\n",
    "                    'tickets' : sum(test['donations'].astype(int))} , \n",
    "                    ignore_index=True)"
   ]
  },
  {
   "cell_type": "code",
   "execution_count": 26,
   "id": "bronze-witness",
   "metadata": {},
   "outputs": [
    {
     "name": "stdout",
     "output_type": "stream",
     "text": [
      "The winner of this lottery is ['D1060']. Congratulations and thank you for participating in my study!\n"
     ]
    }
   ],
   "source": [
    "codes = data['codes']\n",
    "weights = data['tickets']\n",
    "p = np.array(weights, dtype=float) / sum(weights)\n",
    "\n",
    "np.random.seed()\n",
    "winner = choice(codes, size=1, p=p)\n",
    "\n",
    "print(f\"The winner of this lottery is {winner}. Congratulations and thank you for participating in my study!\")"
   ]
  },
  {
   "cell_type": "markdown",
   "id": "d7e29702",
   "metadata": {},
   "source": [
    "If you are interested in the results of this study, please feel free to explore this repository, or contact me at ph8148kr-s@student.lu.se ."
   ]
  }
 ],
 "metadata": {
  "kernelspec": {
   "display_name": "Python 3",
   "language": "python",
   "name": "python3"
  },
  "language_info": {
   "codemirror_mode": {
    "name": "ipython",
    "version": 3
   },
   "file_extension": ".py",
   "mimetype": "text/x-python",
   "name": "python",
   "nbconvert_exporter": "python",
   "pygments_lexer": "ipython3",
   "version": "3.9.4"
  }
 },
 "nbformat": 4,
 "nbformat_minor": 5
}
